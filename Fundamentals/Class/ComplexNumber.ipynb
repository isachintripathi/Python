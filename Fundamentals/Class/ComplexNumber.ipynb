{
 "cells": [
  {
   "cell_type": "markdown",
   "metadata": {},
   "source": [
    "Code1:\n",
    "\n",
    "Creating a normal class which will take exact 2 param and return as complex number."
   ]
  },
  {
   "cell_type": "code",
   "execution_count": 162,
   "metadata": {},
   "outputs": [],
   "source": [
    "class ComplexNumber:\n",
    "    \n",
    "    def __init__(self, real, img):\n",
    "        self.real = real\n",
    "        self.img = img\n",
    "        \n",
    "    def __repr__(self):\n",
    "        return f'ComplexNumber({self.real} + {self.img}j)'        "
   ]
  },
  {
   "cell_type": "code",
   "execution_count": 163,
   "metadata": {},
   "outputs": [
    {
     "data": {
      "text/plain": [
       "ComplexNumber(2 + 3j)"
      ]
     },
     "execution_count": 163,
     "metadata": {},
     "output_type": "execute_result"
    }
   ],
   "source": [
    "ComplexNumber(2,3)"
   ]
  },
  {
   "cell_type": "code",
   "execution_count": 164,
   "metadata": {},
   "outputs": [
    {
     "data": {
      "text/plain": [
       "ComplexNumber(5.3 + 8.3j)"
      ]
     },
     "execution_count": 164,
     "metadata": {},
     "output_type": "execute_result"
    }
   ],
   "source": [
    "ComplexNumber(5.3,8.3)"
   ]
  },
  {
   "cell_type": "markdown",
   "metadata": {},
   "source": [
    "Code2:\n",
    "\n",
    "Here we are passing single as well as multiple param at the same time \n",
    "and checking the input type only int and float is allowed. \n",
    "In case of other i/p type it will raise TypeError."
   ]
  },
  {
   "cell_type": "code",
   "execution_count": 165,
   "metadata": {},
   "outputs": [
    {
     "ename": "TypeError",
     "evalue": "__init__() missing 1 required positional argument: 'img'",
     "output_type": "error",
     "traceback": [
      "\u001b[1;31m---------------------------------------------------------------------------\u001b[0m",
      "\u001b[1;31mTypeError\u001b[0m                                 Traceback (most recent call last)",
      "\u001b[1;32m<ipython-input-165-bfac09c89af0>\u001b[0m in \u001b[0;36m<module>\u001b[1;34m\u001b[0m\n\u001b[1;32m----> 1\u001b[1;33m \u001b[0mComplexNumber\u001b[0m\u001b[1;33m(\u001b[0m\u001b[1;36m2\u001b[0m\u001b[1;33m)\u001b[0m   \u001b[1;31m#our class needs 1 img part\u001b[0m\u001b[1;33m\u001b[0m\u001b[1;33m\u001b[0m\u001b[0m\n\u001b[0m",
      "\u001b[1;31mTypeError\u001b[0m: __init__() missing 1 required positional argument: 'img'"
     ]
    }
   ],
   "source": [
    "ComplexNumber(2)   #our class needs 1 img part"
   ]
  },
  {
   "cell_type": "code",
   "execution_count": 166,
   "metadata": {},
   "outputs": [
    {
     "data": {
      "text/plain": [
       "(2+0j)"
      ]
     },
     "execution_count": 166,
     "metadata": {},
     "output_type": "execute_result"
    }
   ],
   "source": [
    "2+0j  #python knows here img part is 0 by default"
   ]
  },
  {
   "cell_type": "code",
   "execution_count": 167,
   "metadata": {},
   "outputs": [],
   "source": [
    "class ComplexNumber:\n",
    "    \n",
    "    def __init__(self, real, *img):       #args(*) is used for tuple object type\n",
    "    \n",
    "        if isinstance(img, tuple):        #if my img part has many records \n",
    "            if img == ():                 #if my img part has no records then it will select 0 as img\n",
    "                img = 0\n",
    "            else:\n",
    "                img = img[0]              #else we are taking only 1sr arg of from many records\n",
    "        else:\n",
    "            img = img\n",
    "        \n",
    "        if isinstance(real, (int,float)) and isinstance(img, (int,float)):       #i/p will be always int/float else we are raising TypeError\n",
    "            self.real = real\n",
    "            self.img = img\n",
    "        else:\n",
    "            raise TypeError('We can''t create a ComplexNumber of input type str.')\n",
    "\n",
    "    def __repr__(self):\n",
    "        return f'ComplexNumber({self.real} + {self.img}j)' "
   ]
  },
  {
   "cell_type": "code",
   "execution_count": 168,
   "metadata": {},
   "outputs": [
    {
     "data": {
      "text/plain": [
       "ComplexNumber(1 + 0j)"
      ]
     },
     "execution_count": 168,
     "metadata": {},
     "output_type": "execute_result"
    }
   ],
   "source": [
    "ComplexNumber(1)       #img is none hence defaulting to 0"
   ]
  },
  {
   "cell_type": "code",
   "execution_count": 169,
   "metadata": {},
   "outputs": [
    {
     "data": {
      "text/plain": [
       "ComplexNumber(1 + 2j)"
      ]
     },
     "execution_count": 169,
     "metadata": {},
     "output_type": "execute_result"
    }
   ],
   "source": [
    "ComplexNumber(1,2,3,4)  # only 1st index is picked img[0]"
   ]
  },
  {
   "cell_type": "code",
   "execution_count": 170,
   "metadata": {},
   "outputs": [
    {
     "ename": "TypeError",
     "evalue": "We cant create a ComplexNumber of input type str.",
     "output_type": "error",
     "traceback": [
      "\u001b[1;31m---------------------------------------------------------------------------\u001b[0m",
      "\u001b[1;31mTypeError\u001b[0m                                 Traceback (most recent call last)",
      "\u001b[1;32m<ipython-input-170-b2e2d3bc2f66>\u001b[0m in \u001b[0;36m<module>\u001b[1;34m\u001b[0m\n\u001b[1;32m----> 1\u001b[1;33m \u001b[0mComplexNumber\u001b[0m\u001b[1;33m(\u001b[0m\u001b[1;36m1\u001b[0m\u001b[1;33m,\u001b[0m\u001b[1;34m'a'\u001b[0m\u001b[1;33m)\u001b[0m    \u001b[1;31m#Catched TypeError in case of i/p type str\u001b[0m\u001b[1;33m\u001b[0m\u001b[1;33m\u001b[0m\u001b[0m\n\u001b[0m",
      "\u001b[1;32m<ipython-input-167-f4498a5019e0>\u001b[0m in \u001b[0;36m__init__\u001b[1;34m(self, real, *img)\u001b[0m\n\u001b[0;32m     15\u001b[0m             \u001b[0mself\u001b[0m\u001b[1;33m.\u001b[0m\u001b[0mimg\u001b[0m \u001b[1;33m=\u001b[0m \u001b[0mimg\u001b[0m\u001b[1;33m\u001b[0m\u001b[1;33m\u001b[0m\u001b[0m\n\u001b[0;32m     16\u001b[0m         \u001b[1;32melse\u001b[0m\u001b[1;33m:\u001b[0m\u001b[1;33m\u001b[0m\u001b[1;33m\u001b[0m\u001b[0m\n\u001b[1;32m---> 17\u001b[1;33m             \u001b[1;32mraise\u001b[0m \u001b[0mTypeError\u001b[0m\u001b[1;33m(\u001b[0m\u001b[1;34m'We can'\u001b[0m\u001b[1;34m't create a ComplexNumber of input type str.'\u001b[0m\u001b[1;33m)\u001b[0m\u001b[1;33m\u001b[0m\u001b[1;33m\u001b[0m\u001b[0m\n\u001b[0m\u001b[0;32m     18\u001b[0m \u001b[1;33m\u001b[0m\u001b[0m\n\u001b[0;32m     19\u001b[0m     \u001b[1;32mdef\u001b[0m \u001b[0m__repr__\u001b[0m\u001b[1;33m(\u001b[0m\u001b[0mself\u001b[0m\u001b[1;33m)\u001b[0m\u001b[1;33m:\u001b[0m\u001b[1;33m\u001b[0m\u001b[1;33m\u001b[0m\u001b[0m\n",
      "\u001b[1;31mTypeError\u001b[0m: We cant create a ComplexNumber of input type str."
     ]
    }
   ],
   "source": [
    "ComplexNumber(1,'a')    #Catched TypeError in case of i/p type str "
   ]
  },
  {
   "cell_type": "code",
   "execution_count": null,
   "metadata": {},
   "outputs": [],
   "source": [
    "#We can create our own Error\n",
    "\n",
    "class InalidInputError(Exception):\n",
    "    pass"
   ]
  },
  {
   "cell_type": "markdown",
   "metadata": {},
   "source": [
    "Code3:\n",
    "\n",
    "Created a new add method which will add two diff Complex Numbers and \n",
    "if anything fils then we are throwing our own InalidInputError Exception.\n"
   ]
  },
  {
   "cell_type": "code",
   "execution_count": 171,
   "metadata": {},
   "outputs": [],
   "source": [
    "class ComplexNumber:\n",
    "    \n",
    "    def __init__(self, real, *img):       \n",
    "    \n",
    "        if isinstance(img, tuple):        \n",
    "            if img == ():                 \n",
    "                img = 0\n",
    "            else:\n",
    "                img = img[0]              \n",
    "        else:\n",
    "            img = img\n",
    "        \n",
    "        if isinstance(real, (int,float)) and isinstance(img, (int,float)):       \n",
    "            self.real = real\n",
    "            self.img = img\n",
    "        else:\n",
    "            raise InalidInputError('We can''t create a ComplexNumber of input type str.')\n",
    "\n",
    "    def __add__(self,other):\n",
    "        if isinstance(self.real, (int,float)) and isinstance(self.img, (int,float)) and isinstance(other.real, (int,float)) and isinstance(other.img, (int,float)):\n",
    "            Sum = ComplexNumber((self.real + other.real) , (self.img + other.img))\n",
    "            return Sum\n",
    "        else:\n",
    "            raise InalidInputError\n",
    "            \n",
    "    def __repr__(self):\n",
    "        return f'ComplexNumber({self.real} + {self.img}j)' "
   ]
  },
  {
   "cell_type": "code",
   "execution_count": 172,
   "metadata": {},
   "outputs": [
    {
     "data": {
      "text/plain": [
       "ComplexNumber(8 + 16.3j)"
      ]
     },
     "execution_count": 172,
     "metadata": {},
     "output_type": "execute_result"
    }
   ],
   "source": [
    "ComplexNumber(3,8) + ComplexNumber(5,8.3)"
   ]
  },
  {
   "cell_type": "code",
   "execution_count": 173,
   "metadata": {},
   "outputs": [],
   "source": [
    "c1 = ComplexNumber(1,2)\n",
    "c2 = ComplexNumber(5,2.2)"
   ]
  },
  {
   "cell_type": "code",
   "execution_count": 174,
   "metadata": {},
   "outputs": [
    {
     "data": {
      "text/plain": [
       "ComplexNumber(6 + 4.2j)"
      ]
     },
     "execution_count": 174,
     "metadata": {},
     "output_type": "execute_result"
    }
   ],
   "source": [
    "c1 + c2"
   ]
  },
  {
   "cell_type": "code",
   "execution_count": 175,
   "metadata": {},
   "outputs": [],
   "source": [
    "c3 = ComplexNumber(0)"
   ]
  },
  {
   "cell_type": "code",
   "execution_count": 176,
   "metadata": {},
   "outputs": [
    {
     "data": {
      "text/plain": [
       "ComplexNumber(0 + 0j)"
      ]
     },
     "execution_count": 176,
     "metadata": {},
     "output_type": "execute_result"
    }
   ],
   "source": [
    "c3"
   ]
  },
  {
   "cell_type": "code",
   "execution_count": 177,
   "metadata": {},
   "outputs": [
    {
     "data": {
      "text/plain": [
       "ComplexNumber(6 + 4.2j)"
      ]
     },
     "execution_count": 177,
     "metadata": {},
     "output_type": "execute_result"
    }
   ],
   "source": [
    "c1 + c2 + c3"
   ]
  },
  {
   "cell_type": "code",
   "execution_count": 178,
   "metadata": {},
   "outputs": [],
   "source": [
    "c4 = ComplexNumber(5,2)\n",
    "c5 = ComplexNumber(5,2)"
   ]
  },
  {
   "cell_type": "code",
   "execution_count": 179,
   "metadata": {},
   "outputs": [
    {
     "data": {
      "text/plain": [
       "False"
      ]
     },
     "execution_count": 179,
     "metadata": {},
     "output_type": "execute_result"
    }
   ],
   "source": [
    "c4 == c5    #Though both the ComplexNumber are same but their instance is difference"
   ]
  },
  {
   "cell_type": "markdown",
   "metadata": {},
   "source": [
    "Code4:\n",
    "\n",
    "We can increase the code size of this class by adding multiple operations.\n",
    "here we are returning True in case of similar Complex Number as i/p \n"
   ]
  },
  {
   "cell_type": "code",
   "execution_count": 180,
   "metadata": {},
   "outputs": [],
   "source": [
    "class ComplexNumber:\n",
    "    \n",
    "    def __init__(self, real, *img):       \n",
    "    \n",
    "        if isinstance(img, tuple):        \n",
    "            if img == ():                 \n",
    "                img = 0\n",
    "            else:\n",
    "                img = img[0]              \n",
    "        else:\n",
    "            img = img\n",
    "        \n",
    "        if isinstance(real, (int,float)) and isinstance(img, (int,float)):       \n",
    "            self.real = real\n",
    "            self.img = img\n",
    "        else:\n",
    "            raise InalidInputError('We can''t create a ComplexNumber of input type str.')\n",
    "\n",
    "    def __add__(self,other):\n",
    "        if isinstance(self.real, (int,float)) and isinstance(self.img, (int,float)) and isinstance(other.real, (int,float)) and isinstance(other.img, (int,float)):\n",
    "            Sum = ComplexNumber((self.real + other.real) , (self.img + other.img))\n",
    "            return Sum\n",
    "        else:\n",
    "            raise InalidInputError\n",
    "            \n",
    "    def __eq__(self,other):\n",
    "        if isinstance(self.real, (int,float)) and isinstance(self.img, (int,float)) and isinstance(other.real, (int,float)) and isinstance(other.img, (int,float)):\n",
    "            if self.real == other.real and self.img == other.img :\n",
    "                return True\n",
    "            else:\n",
    "                return False\n",
    "        else: \n",
    "            raise InalidInputError\n",
    "            \n",
    "    def __repr__(self):\n",
    "        return f'ComplexNumber({self.real} + {self.img}j)' "
   ]
  },
  {
   "cell_type": "code",
   "execution_count": 181,
   "metadata": {},
   "outputs": [],
   "source": [
    "c6 = ComplexNumber(3,7)\n",
    "c7 = ComplexNumber(0,6)"
   ]
  },
  {
   "cell_type": "code",
   "execution_count": 182,
   "metadata": {},
   "outputs": [
    {
     "data": {
      "text/plain": [
       "False"
      ]
     },
     "execution_count": 182,
     "metadata": {},
     "output_type": "execute_result"
    }
   ],
   "source": [
    "c6 == c7"
   ]
  },
  {
   "cell_type": "code",
   "execution_count": 192,
   "metadata": {},
   "outputs": [],
   "source": [
    "c8 = ComplexNumber(8,0)\n",
    "c9 = ComplexNumber(8,0)"
   ]
  },
  {
   "cell_type": "code",
   "execution_count": 193,
   "metadata": {},
   "outputs": [
    {
     "data": {
      "text/plain": [
       "True"
      ]
     },
     "execution_count": 193,
     "metadata": {},
     "output_type": "execute_result"
    }
   ],
   "source": [
    "c8 == c9"
   ]
  },
  {
   "cell_type": "markdown",
   "metadata": {},
   "source": [
    "We can add mutiple methods in the same class.\n",
    "Added multiplication, cumulative addition, power, getitem, getattribute, etc."
   ]
  },
  {
   "cell_type": "code",
   "execution_count": 194,
   "metadata": {},
   "outputs": [],
   "source": [
    "class ComplexNumber:\n",
    "    \n",
    "    def __init__(self, real, *img):       \n",
    "    \n",
    "        if isinstance(img, tuple):        \n",
    "            if img == ():                 \n",
    "                img = 0\n",
    "            else:\n",
    "                img = img[0]              \n",
    "        else:\n",
    "            img = img\n",
    "        \n",
    "        if isinstance(real, (int,float)) and isinstance(img, (int,float)):       \n",
    "            self.real = real\n",
    "            self.img = img\n",
    "        else:\n",
    "            raise InalidInputError('We can''t create a ComplexNumber of input type str.')\n",
    "\n",
    "    def __mul__(self,other):\n",
    "        if isinstance(self.real, (int,float)) and isinstance(self.img, (int,float)) and isinstance(other.real, (int,float)) and isinstance(other.img, (int,float)):\n",
    "            Mul = ComplexNumber((self.real * other.real) + (self.real * other.img) + (self.img * other.real) + (self.img * other.img))\n",
    "            return Mul\n",
    "        else:\n",
    "            raise InalidInputError\n",
    "            \n",
    "    def __add__(self,other):\n",
    "        if isinstance(self.real, (int,float)) and isinstance(self.img, (int,float)) and isinstance(other.real, (int,float)) and isinstance(other.img, (int,float)):\n",
    "            Sum = ComplexNumber((self.real + other.real) , (self.img + other.img))\n",
    "            return Sum\n",
    "        else:\n",
    "            raise InalidInputError\n",
    "            \n",
    "    def __radd__(self,other):\n",
    "        if isinstance(self.real, (int,float)) and isinstance(self.img, (int,float)) and isinstance(other.real, (int,float)) and isinstance(other.img, (int,float)):\n",
    "            Sum = ComplexNumber((self.real + other.real) , (self.img + other.img))\n",
    "            return Sum\n",
    "        else:\n",
    "            raise InalidInputError\n",
    "    \n",
    "    def __iadd__(other,complexnumber):\n",
    "        self.real += other.real\n",
    "        self.img += other.img\n",
    "        return self\n",
    "            \n",
    "    def __eq__(self,other):\n",
    "        if isinstance(self.real, (int,float)) and isinstance(self.img, (int,float)) and isinstance(other.real, (int,float)) and isinstance(other.img, (int,float)):\n",
    "            if self.real == other.real and self.img == other.img :\n",
    "                return True\n",
    "            else:\n",
    "                return False\n",
    "        else: \n",
    "            raise InalidInputError\n",
    "            \n",
    "    def __repr__(self):\n",
    "        return f'ComplexNumber({self.real} + {self.img}j)'\n",
    "    \n",
    "    def __getitem__(self,index):\n",
    "        if index == 0 :\n",
    "            return self.real\n",
    "        elif index == 1:\n",
    "            return self.img\n",
    "        else:\n",
    "            raise IndexError('Exceeding the Index.')\n",
    "            \n",
    "    def __getattr(self,value):\n",
    "        if not value.startswith('i'):\n",
    "            return self.real\n",
    "        elif value.startwith('i'):\n",
    "            return self.img\n",
    "        else:\n",
    "            raise AttributeError('wrong attr passed.')\n",
    "            \n",
    "    def __mul__(self, other):\n",
    "        pass\n",
    "    \n",
    "    def __pow__(self, power):\n",
    "        pass\n",
    "        "
   ]
  },
  {
   "cell_type": "code",
   "execution_count": 197,
   "metadata": {},
   "outputs": [],
   "source": [
    "c= c8*c9"
   ]
  },
  {
   "cell_type": "code",
   "execution_count": 198,
   "metadata": {},
   "outputs": [],
   "source": [
    "c"
   ]
  },
  {
   "cell_type": "code",
   "execution_count": null,
   "metadata": {},
   "outputs": [],
   "source": []
  },
  {
   "cell_type": "code",
   "execution_count": null,
   "metadata": {},
   "outputs": [],
   "source": []
  }
 ],
 "metadata": {
  "kernelspec": {
   "display_name": "Python 3",
   "language": "python",
   "name": "python3"
  },
  "language_info": {
   "codemirror_mode": {
    "name": "ipython",
    "version": 3
   },
   "file_extension": ".py",
   "mimetype": "text/x-python",
   "name": "python",
   "nbconvert_exporter": "python",
   "pygments_lexer": "ipython3",
   "version": "3.7.4"
  }
 },
 "nbformat": 4,
 "nbformat_minor": 4
}
